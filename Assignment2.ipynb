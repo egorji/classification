{
 "cells": [
  {
   "cell_type": "code",
   "execution_count": null,
   "id": "7d17435e",
   "metadata": {},
   "outputs": [],
   "source": []
  },
  {
   "cell_type": "code",
   "execution_count": 25,
   "id": "5574969d",
   "metadata": {},
   "outputs": [],
   "source": [
    "import pandas as pd \n",
    "import numpy as np\n",
    "import seaborn as sns\n",
    "import matplotlib.pyplot as plt"
   ]
  },
  {
   "cell_type": "code",
   "execution_count": 2,
   "id": "f3b65499",
   "metadata": {},
   "outputs": [
    {
     "data": {
      "text/html": [
       "<div>\n",
       "<style scoped>\n",
       "    .dataframe tbody tr th:only-of-type {\n",
       "        vertical-align: middle;\n",
       "    }\n",
       "\n",
       "    .dataframe tbody tr th {\n",
       "        vertical-align: top;\n",
       "    }\n",
       "\n",
       "    .dataframe thead th {\n",
       "        text-align: right;\n",
       "    }\n",
       "</style>\n",
       "<table border=\"1\" class=\"dataframe\">\n",
       "  <thead>\n",
       "    <tr style=\"text-align: right;\">\n",
       "      <th></th>\n",
       "      <th>Age</th>\n",
       "      <th>EstimatedSalary</th>\n",
       "      <th>Purchased</th>\n",
       "    </tr>\n",
       "  </thead>\n",
       "  <tbody>\n",
       "    <tr>\n",
       "      <th>0</th>\n",
       "      <td>19.0</td>\n",
       "      <td>19000.0</td>\n",
       "      <td>0</td>\n",
       "    </tr>\n",
       "    <tr>\n",
       "      <th>1</th>\n",
       "      <td>35.0</td>\n",
       "      <td>20000.0</td>\n",
       "      <td>0</td>\n",
       "    </tr>\n",
       "    <tr>\n",
       "      <th>2</th>\n",
       "      <td>26.0</td>\n",
       "      <td>43000.0</td>\n",
       "      <td>0</td>\n",
       "    </tr>\n",
       "    <tr>\n",
       "      <th>3</th>\n",
       "      <td>27.0</td>\n",
       "      <td>57000.0</td>\n",
       "      <td>0</td>\n",
       "    </tr>\n",
       "    <tr>\n",
       "      <th>4</th>\n",
       "      <td>19.0</td>\n",
       "      <td>76000.0</td>\n",
       "      <td>0</td>\n",
       "    </tr>\n",
       "  </tbody>\n",
       "</table>\n",
       "</div>"
      ],
      "text/plain": [
       "    Age  EstimatedSalary  Purchased\n",
       "0  19.0          19000.0          0\n",
       "1  35.0          20000.0          0\n",
       "2  26.0          43000.0          0\n",
       "3  27.0          57000.0          0\n",
       "4  19.0          76000.0          0"
      ]
     },
     "execution_count": 2,
     "metadata": {},
     "output_type": "execute_result"
    }
   ],
   "source": [
    "path=r\"C:\\Users\\Efat\\Desktop\\seneca\\semester5\\BDA500\\week8\\SocialAds.csv\"\n",
    "data=pd.read_csv(path)\n",
    "data.head()"
   ]
  },
  {
   "cell_type": "code",
   "execution_count": 34,
   "id": "a90ff856",
   "metadata": {},
   "outputs": [
    {
     "data": {
      "text/html": [
       "<div>\n",
       "<style scoped>\n",
       "    .dataframe tbody tr th:only-of-type {\n",
       "        vertical-align: middle;\n",
       "    }\n",
       "\n",
       "    .dataframe tbody tr th {\n",
       "        vertical-align: top;\n",
       "    }\n",
       "\n",
       "    .dataframe thead th {\n",
       "        text-align: right;\n",
       "    }\n",
       "</style>\n",
       "<table border=\"1\" class=\"dataframe\">\n",
       "  <thead>\n",
       "    <tr style=\"text-align: right;\">\n",
       "      <th></th>\n",
       "      <th>Age</th>\n",
       "      <th>EstimatedSalary</th>\n",
       "      <th>Purchased</th>\n",
       "    </tr>\n",
       "  </thead>\n",
       "  <tbody>\n",
       "    <tr>\n",
       "      <th>395</th>\n",
       "      <td>46.0</td>\n",
       "      <td>41000.0</td>\n",
       "      <td>1</td>\n",
       "    </tr>\n",
       "    <tr>\n",
       "      <th>396</th>\n",
       "      <td>51.0</td>\n",
       "      <td>23000.0</td>\n",
       "      <td>1</td>\n",
       "    </tr>\n",
       "    <tr>\n",
       "      <th>397</th>\n",
       "      <td>50.0</td>\n",
       "      <td>20000.0</td>\n",
       "      <td>1</td>\n",
       "    </tr>\n",
       "    <tr>\n",
       "      <th>398</th>\n",
       "      <td>36.0</td>\n",
       "      <td>33000.0</td>\n",
       "      <td>0</td>\n",
       "    </tr>\n",
       "    <tr>\n",
       "      <th>399</th>\n",
       "      <td>49.0</td>\n",
       "      <td>36000.0</td>\n",
       "      <td>1</td>\n",
       "    </tr>\n",
       "  </tbody>\n",
       "</table>\n",
       "</div>"
      ],
      "text/plain": [
       "      Age  EstimatedSalary  Purchased\n",
       "395  46.0          41000.0          1\n",
       "396  51.0          23000.0          1\n",
       "397  50.0          20000.0          1\n",
       "398  36.0          33000.0          0\n",
       "399  49.0          36000.0          1"
      ]
     },
     "execution_count": 34,
     "metadata": {},
     "output_type": "execute_result"
    }
   ],
   "source": [
    "data.tail()"
   ]
  },
  {
   "cell_type": "code",
   "execution_count": 3,
   "id": "9d7e66af",
   "metadata": {},
   "outputs": [
    {
     "name": "stdout",
     "output_type": "stream",
     "text": [
      "<class 'pandas.core.frame.DataFrame'>\n",
      "RangeIndex: 400 entries, 0 to 399\n",
      "Data columns (total 3 columns):\n",
      " #   Column           Non-Null Count  Dtype  \n",
      "---  ------           --------------  -----  \n",
      " 0   Age              398 non-null    float64\n",
      " 1   EstimatedSalary  396 non-null    float64\n",
      " 2   Purchased        400 non-null    int64  \n",
      "dtypes: float64(2), int64(1)\n",
      "memory usage: 9.5 KB\n"
     ]
    }
   ],
   "source": [
    "data.info()"
   ]
  },
  {
   "cell_type": "code",
   "execution_count": 5,
   "id": "e8482d8c",
   "metadata": {},
   "outputs": [
    {
     "data": {
      "text/plain": [
       "0    257\n",
       "1    143\n",
       "Name: Purchased, dtype: int64"
      ]
     },
     "execution_count": 5,
     "metadata": {},
     "output_type": "execute_result"
    }
   ],
   "source": [
    "data.Purchased.value_counts()"
   ]
  },
  {
   "cell_type": "code",
   "execution_count": 7,
   "id": "8e5b371a",
   "metadata": {},
   "outputs": [
    {
     "data": {
      "text/plain": [
       "<AxesSubplot:>"
      ]
     },
     "execution_count": 7,
     "metadata": {},
     "output_type": "execute_result"
    },
    {
     "data": {
      "image/png": "[encoded data removed]",
      "text/plain": [
       "<Figure size 432x288 with 1 Axes>"
      ]
     },
     "metadata": {
      "needs_background": "light"
     },
     "output_type": "display_data"
    }
   ],
   "source": [
    "data.Purchased.value_counts().plot(kind='bar')"
   ]
  },
  {
   "cell_type": "code",
   "execution_count": 9,
   "id": "f7744c3f",
   "metadata": {},
   "outputs": [
    {
     "data": {
      "text/plain": [
       "Age                2\n",
       "EstimatedSalary    4\n",
       "Purchased          0\n",
       "dtype: int64"
      ]
     },
     "execution_count": 9,
     "metadata": {},
     "output_type": "execute_result"
    }
   ],
   "source": [
    "data.isnull().sum()"
   ]
  },
  {
   "cell_type": "code",
   "execution_count": 14,
   "id": "3a4b44f6",
   "metadata": {},
   "outputs": [
    {
     "data": {
      "text/html": [
       "<div>\n",
       "<style scoped>\n",
       "    .dataframe tbody tr th:only-of-type {\n",
       "        vertical-align: middle;\n",
       "    }\n",
       "\n",
       "    .dataframe tbody tr th {\n",
       "        vertical-align: top;\n",
       "    }\n",
       "\n",
       "    .dataframe thead th {\n",
       "        text-align: right;\n",
       "    }\n",
       "</style>\n",
       "<table border=\"1\" class=\"dataframe\">\n",
       "  <thead>\n",
       "    <tr style=\"text-align: right;\">\n",
       "      <th></th>\n",
       "      <th>Age</th>\n",
       "      <th>EstimatedSalary</th>\n",
       "    </tr>\n",
       "  </thead>\n",
       "  <tbody>\n",
       "    <tr>\n",
       "      <th>count</th>\n",
       "      <td>398.000000</td>\n",
       "      <td>396.00000</td>\n",
       "    </tr>\n",
       "    <tr>\n",
       "      <th>mean</th>\n",
       "      <td>37.658291</td>\n",
       "      <td>69969.69697</td>\n",
       "    </tr>\n",
       "    <tr>\n",
       "      <th>std</th>\n",
       "      <td>10.480103</td>\n",
       "      <td>34112.23606</td>\n",
       "    </tr>\n",
       "    <tr>\n",
       "      <th>min</th>\n",
       "      <td>18.000000</td>\n",
       "      <td>15000.00000</td>\n",
       "    </tr>\n",
       "    <tr>\n",
       "      <th>25%</th>\n",
       "      <td>30.000000</td>\n",
       "      <td>43000.00000</td>\n",
       "    </tr>\n",
       "    <tr>\n",
       "      <th>50%</th>\n",
       "      <td>37.000000</td>\n",
       "      <td>70000.00000</td>\n",
       "    </tr>\n",
       "    <tr>\n",
       "      <th>75%</th>\n",
       "      <td>46.000000</td>\n",
       "      <td>88000.00000</td>\n",
       "    </tr>\n",
       "    <tr>\n",
       "      <th>max</th>\n",
       "      <td>60.000000</td>\n",
       "      <td>150000.00000</td>\n",
       "    </tr>\n",
       "  </tbody>\n",
       "</table>\n",
       "</div>"
      ],
      "text/plain": [
       "              Age  EstimatedSalary\n",
       "count  398.000000        396.00000\n",
       "mean    37.658291      69969.69697\n",
       "std     10.480103      34112.23606\n",
       "min     18.000000      15000.00000\n",
       "25%     30.000000      43000.00000\n",
       "50%     37.000000      70000.00000\n",
       "75%     46.000000      88000.00000\n",
       "max     60.000000     150000.00000"
      ]
     },
     "execution_count": 14,
     "metadata": {},
     "output_type": "execute_result"
    }
   ],
   "source": [
    "data[['Age','EstimatedSalary']].describe()"
   ]
  },
  {
   "cell_type": "code",
   "execution_count": 60,
   "id": "554e1770",
   "metadata": {},
   "outputs": [
    {
     "data": {
      "text/plain": [
       "<matplotlib.legend.Legend at 0x1c1c43479d0>"
      ]
     },
     "execution_count": 60,
     "metadata": {},
     "output_type": "execute_result"
    },
    {
     "data": {
      "image/png": "[encoded data removed]",
      "text/plain": [
       "<Figure size 432x288 with 1 Axes>"
      ]
     },
     "metadata": {
      "needs_background": "light"
     },
     "output_type": "display_data"
    }
   ],
   "source": [
    "from sklearn.preprocessing import StandardScaler\n",
    "scaler=StandardScaler()\n",
    "plot_data=pd.DataFrame(scaler.fit_transform(data[['Age','EstimatedSalary']]),columns=['age','salary'])\n",
    "plot_data['purchased']=data.Purchased\n",
    "plt.scatter(plot_data.age, plot_data.salary, c=plot_data.purchased)\n",
    "plt.xlabel('Scaled Age')\n",
    "plt.ylabel('Scaled EstimatedSalary')\n",
    "plt.legend([0,1])"
   ]
  },
  {
   "cell_type": "code",
   "execution_count": 24,
   "id": "76d5be88",
   "metadata": {},
   "outputs": [
    {
     "data": {
      "text/plain": [
       "<AxesSubplot:ylabel='Frequency'>"
      ]
     },
     "execution_count": 24,
     "metadata": {},
     "output_type": "execute_result"
    },
    {
     "data": {
      "image/png": "[encoded data removed]",
      "text/plain": [
       "<Figure size 432x288 with 1 Axes>"
      ]
     },
     "metadata": {
      "needs_background": "light"
     },
     "output_type": "display_data"
    }
   ],
   "source": [
    "data.EstimatedSalary.plot.hist(bins=15)\n",
    "#ax=data.EstimatedSalary.plot.density()"
   ]
  },
  {
   "cell_type": "code",
   "execution_count": 28,
   "id": "f134a1c4",
   "metadata": {},
   "outputs": [
    {
     "name": "stderr",
     "output_type": "stream",
     "text": [
      "C:\\Users\\Efat\\anaconda3\\lib\\site-packages\\seaborn\\distributions.py:2557: FutureWarning: `distplot` is a deprecated function and will be removed in a future version. Please adapt your code to use either `displot` (a figure-level function with similar flexibility) or `histplot` (an axes-level function for histograms).\n",
      "  warnings.warn(msg, FutureWarning)\n"
     ]
    },
    {
     "data": {
      "text/plain": [
       "<AxesSubplot:xlabel='EstimatedSalary', ylabel='Density'>"
      ]
     },
     "execution_count": 28,
     "metadata": {},
     "output_type": "execute_result"
    },
    {
     "data": {
      "image/png": "[encoded data removed]",
      "text/plain": [
       "<Figure size 432x288 with 1 Axes>"
      ]
     },
     "metadata": {
      "needs_background": "light"
     },
     "output_type": "display_data"
    }
   ],
   "source": [
    "sns.distplot(data.EstimatedSalary, hist=True, kde= True, bins=15)"
   ]
  },
  {
   "cell_type": "code",
   "execution_count": 30,
   "id": "0b0e8a2a",
   "metadata": {},
   "outputs": [
    {
     "data": {
      "text/plain": [
       "<AxesSubplot:ylabel='Frequency'>"
      ]
     },
     "execution_count": 30,
     "metadata": {},
     "output_type": "execute_result"
    },
    {
     "data": {
      "image/png": "[encoded data removed]",
      "text/plain": [
       "<Figure size 432x288 with 1 Axes>"
      ]
     },
     "metadata": {
      "needs_background": "light"
     },
     "output_type": "display_data"
    }
   ],
   "source": [
    "data.Age.plot.hist(bins=10)"
   ]
  },
  {
   "cell_type": "code",
   "execution_count": 31,
   "id": "15a8e2af",
   "metadata": {},
   "outputs": [
    {
     "name": "stderr",
     "output_type": "stream",
     "text": [
      "C:\\Users\\Efat\\anaconda3\\lib\\site-packages\\seaborn\\distributions.py:2557: FutureWarning: `distplot` is a deprecated function and will be removed in a future version. Please adapt your code to use either `displot` (a figure-level function with similar flexibility) or `histplot` (an axes-level function for histograms).\n",
      "  warnings.warn(msg, FutureWarning)\n"
     ]
    },
    {
     "data": {
      "text/plain": [
       "<AxesSubplot:xlabel='Age', ylabel='Density'>"
      ]
     },
     "execution_count": 31,
     "metadata": {},
     "output_type": "execute_result"
    },
    {
     "data": {
      "image/png": "[encoded data removed]",
      "text/plain": [
       "<Figure size 432x288 with 1 Axes>"
      ]
     },
     "metadata": {
      "needs_background": "light"
     },
     "output_type": "display_data"
    }
   ],
   "source": [
    "sns.distplot(data.Age, hist=True, kde=True, bins=10)"
   ]
  },
  {
   "cell_type": "code",
   "execution_count": 119,
   "id": "2e13df1a",
   "metadata": {},
   "outputs": [],
   "source": [
    "X=data[['Age','EstimatedSalary']]\n",
    "y=data.Purchased"
   ]
  },
  {
   "cell_type": "code",
   "execution_count": 129,
   "id": "7572add3",
   "metadata": {},
   "outputs": [
    {
     "name": "stdout",
     "output_type": "stream",
     "text": [
      "320\n",
      "80\n"
     ]
    }
   ],
   "source": [
    "from sklearn.model_selection import train_test_split\n",
    "X_train, X_test, y_train, y_test= train_test_split(X, y, test_size=0.2, random_state=42)\n",
    "print(len(X_train))\n",
    "print(len(X_test))"
   ]
  },
  {
   "cell_type": "code",
   "execution_count": 121,
   "id": "5d9d6470",
   "metadata": {},
   "outputs": [
    {
     "data": {
      "text/plain": [
       "Age                2\n",
       "EstimatedSalary    0\n",
       "dtype: int64"
      ]
     },
     "execution_count": 121,
     "metadata": {},
     "output_type": "execute_result"
    }
   ],
   "source": [
    "X_train.isnull().sum()"
   ]
  },
  {
   "cell_type": "markdown",
   "id": "0b1d8abd",
   "metadata": {},
   "source": [
    "## custom imputer for imputing the null values"
   ]
  },
  {
   "cell_type": "code",
   "execution_count": 128,
   "id": "6ba08615",
   "metadata": {},
   "outputs": [],
   "source": [
    "from sklearn.base import BaseEstimator, TransformerMixin\n",
    "class Imputer(BaseEstimator, TransformerMixin):\n",
    "    \n",
    "    def fit(self, X, y=None):\n",
    "        return self\n",
    "    \n",
    "    def transform(self, X, y=None):\n",
    "        # Perform fillna transformation\n",
    "        values={'Age':X['Age'].mode()[0], 'EstimatedSalary':X['EstimatedSalary'].mean()}\n",
    "        return X.fillna(value=values)\n",
    "    "
   ]
  },
  {
   "cell_type": "markdown",
   "id": "f68a3775",
   "metadata": {},
   "source": [
    "# linear SVC"
   ]
  },
  {
   "cell_type": "code",
   "execution_count": 145,
   "id": "6d962f9a",
   "metadata": {},
   "outputs": [
    {
     "data": {
      "text/plain": [
       "Pipeline(steps=[('imputer', Imputer()), ('scaler', StandardScaler()),\n",
       "                ('linear_SVC', LinearSVC(C=1, loss='hinge'))])"
      ]
     },
     "execution_count": 145,
     "metadata": {},
     "output_type": "execute_result"
    }
   ],
   "source": [
    "from sklearn.pipeline import Pipeline\n",
    "from sklearn.preprocessing import StandardScaler\n",
    "from sklearn.svm import LinearSVC\n",
    "\n",
    "model1=Pipeline(steps=[\n",
    "    ('imputer', Imputer()),\n",
    "    ('scaler', StandardScaler()),\n",
    "    ('linear_SVC', LinearSVC(C=1, loss=\"hinge\"))\n",
    "])\n",
    "\n",
    "model1.fit(X_train, y_train)"
   ]
  },
  {
   "cell_type": "code",
   "execution_count": 146,
   "id": "b1f9c66e",
   "metadata": {},
   "outputs": [
    {
     "name": "stdout",
     "output_type": "stream",
     "text": [
      "some targets:      [0, 1, 1, 0, 1, 1, 0, 1, 0, 0]\n",
      "some predictions:  [0, 0, 1, 0, 1, 0, 0, 1, 0, 0]\n"
     ]
    }
   ],
   "source": [
    "some_data=X_train[:10]\n",
    "some_target=list(y_train[:10])\n",
    "some_predictions=list(model1.predict(some_data))\n",
    "print(\"some targets:     \", some_target)\n",
    "print(\"some predictions: \", some_predictions)"
   ]
  },
  {
   "cell_type": "markdown",
   "id": "9cc1bd73",
   "metadata": {},
   "source": [
    "# SVC / kernel: linear"
   ]
  },
  {
   "cell_type": "code",
   "execution_count": 149,
   "id": "6190a01a",
   "metadata": {},
   "outputs": [
    {
     "data": {
      "text/plain": [
       "Pipeline(steps=[('imputer', Imputer()), ('scaler', StandardScaler()),\n",
       "                ('svc', SVC(C=1, kernel='linear', random_state=0))])"
      ]
     },
     "execution_count": 149,
     "metadata": {},
     "output_type": "execute_result"
    }
   ],
   "source": [
    "from sklearn.svm import SVC\n",
    "\n",
    "model2=Pipeline(steps=[\n",
    "    ('imputer', Imputer()),\n",
    "    ('scaler', StandardScaler()),\n",
    "    ('svc', SVC(C=1, kernel='linear', random_state=0))\n",
    "])\n",
    "\n",
    "model2.fit(X_train, y_train)"
   ]
  },
  {
   "cell_type": "code",
   "execution_count": 150,
   "id": "a85087bb",
   "metadata": {},
   "outputs": [
    {
     "name": "stdout",
     "output_type": "stream",
     "text": [
      "some targets:      [0, 1, 1, 0, 1, 1, 0, 1, 0, 0]\n",
      "some predictions:  [0, 0, 1, 0, 1, 0, 0, 1, 0, 0]\n"
     ]
    }
   ],
   "source": [
    "some_predictions=list(model2.predict(some_data))\n",
    "print(\"some targets:     \", some_target)\n",
    "print(\"some predictions: \", some_predictions)"
   ]
  },
  {
   "cell_type": "markdown",
   "id": "01012ac6",
   "metadata": {},
   "source": [
    "# SGD Classifier"
   ]
  },
  {
   "cell_type": "code",
   "execution_count": 151,
   "id": "44e254d7",
   "metadata": {},
   "outputs": [
    {
     "data": {
      "text/plain": [
       "Pipeline(steps=[('imputer', Imputer()), ('scaler', StandardScaler()),\n",
       "                ('sgd', SGDClassifier())])"
      ]
     },
     "execution_count": 151,
     "metadata": {},
     "output_type": "execute_result"
    }
   ],
   "source": [
    "from sklearn.linear_model import SGDClassifier\n",
    "\n",
    "model3=Pipeline(steps=[\n",
    "    ('imputer', Imputer()),\n",
    "    ('scaler', StandardScaler()),\n",
    "    ('sgd', SGDClassifier(loss='hinge', penalty='l2', alpha=0.0001))\n",
    "])\n",
    "\n",
    "model3.fit(X_train, y_train)"
   ]
  },
  {
   "cell_type": "code",
   "execution_count": 152,
   "id": "ac99e927",
   "metadata": {},
   "outputs": [
    {
     "name": "stdout",
     "output_type": "stream",
     "text": [
      "some targets:      [0, 1, 1, 0, 1, 1, 0, 1, 0, 0]\n",
      "some predictions:  [0, 0, 1, 0, 1, 0, 0, 1, 0, 0]\n"
     ]
    }
   ],
   "source": [
    "some_predictions=list(model3.predict(some_data))\n",
    "print(\"some targets:     \", some_target)\n",
    "print(\"some predictions: \", some_predictions)"
   ]
  },
  {
   "cell_type": "markdown",
   "id": "65c0f544",
   "metadata": {},
   "source": [
    "# SVC / kernel: rbf"
   ]
  },
  {
   "cell_type": "code",
   "execution_count": 155,
   "id": "3f7587a8",
   "metadata": {},
   "outputs": [
    {
     "data": {
      "text/plain": [
       "Pipeline(steps=[('imputer', Imputer()), ('scaler', StandardScaler()),\n",
       "                ('svc_rbf', SVC(C=1, random_state=0))])"
      ]
     },
     "execution_count": 155,
     "metadata": {},
     "output_type": "execute_result"
    }
   ],
   "source": [
    "model4=Pipeline(steps=[\n",
    "    ('imputer', Imputer()),\n",
    "    ('scaler', StandardScaler()),\n",
    "    ('svc_rbf', SVC(C=1, kernel='rbf', random_state=0))\n",
    "])\n",
    "\n",
    "model4.fit(X_train, y_train)"
   ]
  },
  {
   "cell_type": "code",
   "execution_count": 156,
   "id": "b6d1e3c1",
   "metadata": {},
   "outputs": [
    {
     "name": "stdout",
     "output_type": "stream",
     "text": [
      "some targets:      [0, 1, 1, 0, 1, 1, 0, 1, 0, 0]\n",
      "some predictions:  [0, 1, 1, 1, 1, 1, 0, 1, 0, 0]\n"
     ]
    }
   ],
   "source": [
    "some_predictions=list(model4.predict(some_data))\n",
    "print(\"some targets:     \", some_target)\n",
    "print(\"some predictions: \", some_predictions)"
   ]
  },
  {
   "cell_type": "markdown",
   "id": "4d2a36a4",
   "metadata": {},
   "source": [
    "# SVC/ kernel: poly"
   ]
  },
  {
   "cell_type": "code",
   "execution_count": 180,
   "id": "789db9b4",
   "metadata": {},
   "outputs": [
    {
     "data": {
      "text/plain": [
       "Pipeline(steps=[('imputer', Imputer()), ('scaler', StandardScaler()),\n",
       "                ('svc_poly', SVC(C=1, kernel='poly', random_state=0))])"
      ]
     },
     "execution_count": 180,
     "metadata": {},
     "output_type": "execute_result"
    }
   ],
   "source": [
    "model5=Pipeline(steps=[\n",
    "    ('imputer', Imputer()),\n",
    "    ('scaler', StandardScaler()),\n",
    "    ('svc_poly', SVC(C=1, kernel='poly', degree=3, random_state=0))\n",
    "])\n",
    "\n",
    "model5.fit(X_train, y_train)"
   ]
  },
  {
   "cell_type": "code",
   "execution_count": 193,
   "id": "2cb5f4c9",
   "metadata": {},
   "outputs": [
    {
     "name": "stdout",
     "output_type": "stream",
     "text": [
      "some targets:      [0, 1, 1, 0, 1, 1, 0, 1, 0, 0]\n",
      "some predictions:  [0, 0, 1, 0, 1, 0, 0, 0, 0, 0]\n"
     ]
    }
   ],
   "source": [
    "some_predictions=list(model5.predict(some_data))\n",
    "print(\"some targets:     \", some_target)\n",
    "print(\"some predictions: \", some_predictions)"
   ]
  },
  {
   "cell_type": "markdown",
   "id": "65eaeea2",
   "metadata": {},
   "source": [
    "# hyperparameter tunning with RandomizedSearchCV"
   ]
  },
  {
   "cell_type": "code",
   "execution_count": 235,
   "id": "b735f4ae",
   "metadata": {},
   "outputs": [
    {
     "name": "stdout",
     "output_type": "stream",
     "text": [
      "Fitting 3 folds for each of 10 candidates, totalling 30 fits\n",
      "[CV] END ...C=6.4881350392732475, gamma=0.026938830192854094; total time=   0.0s\n",
      "[CV] END ...C=6.4881350392732475, gamma=0.026938830192854094; total time=   0.0s\n",
      "[CV] END ...C=6.4881350392732475, gamma=0.026938830192854094; total time=   0.0s\n",
      "[CV] END ....C=7.027633760716439, gamma=0.012296071107325704; total time=   0.0s\n",
      "[CV] END ....C=7.027633760716439, gamma=0.012296071107325704; total time=   0.0s\n",
      "[CV] END ....C=7.027633760716439, gamma=0.012296071107325704; total time=   0.0s\n",
      "[CV] END ....C=5.236547993389047, gamma=0.019578897201212996; total time=   0.0s\n",
      "[CV] END ....C=5.236547993389047, gamma=0.019578897201212996; total time=   0.0s\n",
      "[CV] END ....C=5.236547993389047, gamma=0.019578897201212996; total time=   0.0s\n",
      "[CV] END ....C=5.375872112626925, gamma=0.060749960734256925; total time=   0.0s\n",
      "[CV] END ....C=5.375872112626925, gamma=0.060749960734256925; total time=   0.0s\n",
      "[CV] END ....C=5.375872112626925, gamma=0.060749960734256925; total time=   0.0s\n",
      "[CV] END ...C=10.636627605010293, gamma=0.005846326121643412; total time=   0.0s\n",
      "[CV] END ...C=10.636627605010293, gamma=0.005846326121643412; total time=   0.0s\n",
      "[CV] END ...C=10.636627605010293, gamma=0.005846326121643412; total time=   0.0s\n",
      "[CV] END .....C=8.917250380826646, gamma=0.01142325415560837; total time=   0.0s\n",
      "[CV] END .....C=8.917250380826646, gamma=0.01142325415560837; total time=   0.0s\n",
      "[CV] END .....C=8.917250380826646, gamma=0.01142325415560837; total time=   0.0s\n",
      "[CV] END .......C=6.680445610939323, gamma=0.070989362574059; total time=   0.0s\n",
      "[CV] END .......C=6.680445610939323, gamma=0.070989362574059; total time=   0.0s\n",
      "[CV] END .......C=6.680445610939323, gamma=0.070989362574059; total time=   0.0s\n",
      "[CV] END ..C=1.7103605819788694, gamma=0.0014936835544198455; total time=   0.0s\n",
      "[CV] END ..C=1.7103605819788694, gamma=0.0014936835544198455; total time=   0.0s\n",
      "[CV] END ..C=1.7103605819788694, gamma=0.0014936835544198455; total time=   0.0s\n",
      "[CV] END ....C=1.2021839744032572, gamma=0.04626362841475585; total time=   0.0s\n",
      "[CV] END ....C=1.2021839744032572, gamma=0.04626362841475585; total time=   0.0s\n",
      "[CV] END ....C=1.2021839744032572, gamma=0.04626362841475585; total time=   0.0s\n",
      "[CV] END .....C=8.781567509498505, gamma=0.05495716186411615; total time=   0.0s\n",
      "[CV] END .....C=8.781567509498505, gamma=0.05495716186411615; total time=   0.0s\n",
      "[CV] END .....C=8.781567509498505, gamma=0.05495716186411615; total time=   0.0s\n"
     ]
    },
    {
     "data": {
      "text/plain": [
       "RandomizedSearchCV(cv=3, estimator=SVC(random_state=0),\n",
       "                   param_distributions={'C': <scipy.stats._distn_infrastructure.rv_frozen object at 0x000001C1C4804820>,\n",
       "                                        'gamma': <scipy.stats._distn_infrastructure.rv_frozen object at 0x000001C1C48AAC40>},\n",
       "                   random_state=0, verbose=2)"
      ]
     },
     "execution_count": 235,
     "metadata": {},
     "output_type": "execute_result"
    }
   ],
   "source": [
    "from sklearn.model_selection import RandomizedSearchCV\n",
    "from scipy.stats import reciprocal, uniform\n",
    "\n",
    "svc= SVC(random_state=0) \n",
    "param_distributions = {'gamma': reciprocal(0.001, 0.1), 'C': uniform(1, 10)}\n",
    "                       \n",
    "preprocess =Pipeline(steps=[\n",
    "    ('imputer', Imputer()),\n",
    "    ('scaler', StandardScaler())])\n",
    "\n",
    "rnd_search_cv= RandomizedSearchCV(svc, param_distributions, \n",
    "                                   n_iter=10, verbose=2, cv=3, random_state=0)\n",
    "\n",
    "\n",
    "X_train_rnd_search= preprocess.fit_transform(X_train)\n",
    "\n",
    "rnd_search_cv.fit(X_train_rnd_search, y_train)"
   ]
  },
  {
   "cell_type": "code",
   "execution_count": 236,
   "id": "ebfd3437",
   "metadata": {},
   "outputs": [
    {
     "data": {
      "text/plain": [
       "SVC(C=6.680445610939323, gamma=0.070989362574059, random_state=0)"
      ]
     },
     "execution_count": 236,
     "metadata": {},
     "output_type": "execute_result"
    }
   ],
   "source": [
    "rnd_search_cv.best_estimator_"
   ]
  },
  {
   "cell_type": "code",
   "execution_count": 212,
   "id": "0e692ba2",
   "metadata": {},
   "outputs": [
    {
     "data": {
      "text/plain": [
       "0.8967848116146477"
      ]
     },
     "execution_count": 212,
     "metadata": {},
     "output_type": "execute_result"
    }
   ],
   "source": [
    "rnd_search_cv.best_score_"
   ]
  },
  {
   "cell_type": "markdown",
   "id": "d2be99b0",
   "metadata": {},
   "source": [
    "# fitting a model with the provided tunned hyperparameters"
   ]
  },
  {
   "cell_type": "code",
   "execution_count": 237,
   "id": "46295ae5",
   "metadata": {},
   "outputs": [
    {
     "data": {
      "text/plain": [
       "Pipeline(steps=[('imputer', Imputer()), ('scaler', StandardScaler()),\n",
       "                ('svc_tunned',\n",
       "                 SVC(C=6.680445610939323, gamma=0.070989362574059,\n",
       "                     random_state=0))])"
      ]
     },
     "execution_count": 237,
     "metadata": {},
     "output_type": "execute_result"
    }
   ],
   "source": [
    "model6=Pipeline(steps=[\n",
    "    ('imputer', Imputer()),\n",
    "    ('scaler', StandardScaler()),\n",
    "    ('svc_tunned', SVC(C=6.680445610939323,gamma=0.070989362574059, random_state=0))\n",
    "])\n",
    "\n",
    "model6.fit(X_train, y_train)"
   ]
  },
  {
   "cell_type": "code",
   "execution_count": 238,
   "id": "4b5d152a",
   "metadata": {},
   "outputs": [
    {
     "name": "stdout",
     "output_type": "stream",
     "text": [
      "some targets:      [0, 1, 1, 0, 1, 1, 0, 1, 0, 0]\n",
      "some predictions:  [0, 1, 1, 0, 1, 1, 0, 1, 0, 0]\n"
     ]
    }
   ],
   "source": [
    "some_predictions=list(model6.predict(some_data))\n",
    "print(\"some targets:     \", some_target)\n",
    "print(\"some predictions: \", some_predictions)"
   ]
  },
  {
   "cell_type": "markdown",
   "id": "57f302d8",
   "metadata": {},
   "source": [
    "# models' evaluation and comparison"
   ]
  },
  {
   "cell_type": "code",
   "execution_count": 198,
   "id": "5e05cd84",
   "metadata": {},
   "outputs": [],
   "source": [
    "from sklearn.model_selection import cross_val_score\n",
    "from sklearn.model_selection import cross_val_predict\n",
    "from sklearn.metrics import confusion_matrix, precision_score, recall_score, f1_score\n"
   ]
  },
  {
   "cell_type": "markdown",
   "id": "de7bbb42",
   "metadata": {},
   "source": [
    "## accuracy score"
   ]
  },
  {
   "cell_type": "code",
   "execution_count": 239,
   "id": "36ff6eeb",
   "metadata": {},
   "outputs": [
    {
     "name": "stdout",
     "output_type": "stream",
     "text": [
      "linear_SVC accuracy score: 0.828125\n",
      "svc accuracy score: 0.825\n",
      "sgd accuracy score: 0.828125\n",
      "svc_rbf accuracy score: 0.90625\n",
      "svc_poly accuracy score: 0.83125\n",
      "svc_tunned accuracy score: 0.896875\n"
     ]
    }
   ],
   "source": [
    "from sklearn.metrics import accuracy_score\n",
    "models=[model1, model2, model3, model4, model5, model6]\n",
    "\n",
    "for model in models:\n",
    "    \n",
    "    score=accuracy_score(y_train, model.predict(X_train))\n",
    "    print(\"{} accuracy score: {}\".format(model.steps[2][0], score))"
   ]
  },
  {
   "cell_type": "code",
   "execution_count": 240,
   "id": "98cd67c0",
   "metadata": {},
   "outputs": [
    {
     "name": "stdout",
     "output_type": "stream",
     "text": [
      "linear_SVC cross validation accuracy score: 0.825\n",
      "svc cross validation accuracy score: 0.825\n",
      "sgd cross validation accuracy score: 0.778125\n",
      "svc_rbf cross validation accuracy score: 0.903125\n",
      "svc_poly cross validation accuracy score: 0.828125\n",
      "svc_tunned cross validation accuracy score: 0.896875\n"
     ]
    }
   ],
   "source": [
    "\n",
    "for model in models:\n",
    "    scores = cross_val_score(model, X_train, y_train, cv=10, scoring=\"accuracy\")\n",
    "    print(\"{} cross validation accuracy score: {}\".format(model.steps[2][0], scores.mean()))"
   ]
  },
  {
   "cell_type": "markdown",
   "id": "298b097f",
   "metadata": {},
   "source": [
    "## confusion matrix, precision, recall, and f1 score"
   ]
  },
  {
   "cell_type": "code",
   "execution_count": 241,
   "id": "37801efb",
   "metadata": {},
   "outputs": [
    {
     "name": "stdout",
     "output_type": "stream",
     "text": [
      "confusion matrix of linear_SVC: \n",
      " [[191  14]\n",
      " [ 42  73]]\n",
      "precision:  0.8390804597701149\n",
      "recall:  0.6347826086956522\n",
      "f1 score:  0.7227722772277227\n",
      "-------------------------------------\n",
      "confusion matrix of svc: \n",
      " [[191  14]\n",
      " [ 42  73]]\n",
      "precision:  0.8390804597701149\n",
      "recall:  0.6347826086956522\n",
      "f1 score:  0.7227722772277227\n",
      "-------------------------------------\n",
      "confusion matrix of sgd: \n",
      " [[175  30]\n",
      " [ 36  79]]\n",
      "precision:  0.7247706422018348\n",
      "recall:  0.6869565217391305\n",
      "f1 score:  0.7053571428571429\n",
      "-------------------------------------\n",
      "confusion matrix of svc_rbf: \n",
      " [[186  19]\n",
      " [ 12 103]]\n",
      "precision:  0.8442622950819673\n",
      "recall:  0.8956521739130435\n",
      "f1 score:  0.869198312236287\n",
      "-------------------------------------\n",
      "confusion matrix of svc_poly: \n",
      " [[197   8]\n",
      " [ 47  68]]\n",
      "precision:  0.8947368421052632\n",
      "recall:  0.591304347826087\n",
      "f1 score:  0.7120418848167539\n",
      "-------------------------------------\n",
      "confusion matrix of svc_tunned: \n",
      " [[189  16]\n",
      " [ 17  98]]\n",
      "precision:  0.8596491228070176\n",
      "recall:  0.8521739130434782\n",
      "f1 score:  0.8558951965065502\n",
      "-------------------------------------\n"
     ]
    }
   ],
   "source": [
    "for model in models:\n",
    "    y_pred = cross_val_predict(model, X_train, y_train, cv=10)\n",
    "    print(\"confusion matrix of {}: \\n {}\".format(model.steps[2][0],confusion_matrix(y_train, y_pred)))\n",
    "    print(\"precision: \", precision_score(y_train, y_pred))\n",
    "    print(\"recall: \", recall_score(y_train, y_pred))\n",
    "    print(\"f1 score: \", f1_score(y_train, y_pred))\n",
    "    print(\"-------------------------------------\")"
   ]
  },
  {
   "cell_type": "markdown",
   "id": "046b4a23",
   "metadata": {},
   "source": [
    "# final model : model 4"
   ]
  },
  {
   "cell_type": "markdown",
   "id": "6e3b991d",
   "metadata": {},
   "source": [
    "SVC(C=1, kernel='rbf', gamma='scale', random_state=0)"
   ]
  },
  {
   "cell_type": "markdown",
   "id": "1091d74c",
   "metadata": {},
   "source": [
    "# evaluating the final model on the test set"
   ]
  },
  {
   "cell_type": "code",
   "execution_count": 229,
   "id": "633e0b82",
   "metadata": {},
   "outputs": [
    {
     "data": {
      "text/plain": [
       "0.925"
      ]
     },
     "execution_count": 229,
     "metadata": {},
     "output_type": "execute_result"
    }
   ],
   "source": [
    "# accuracy score\n",
    "y_pred_test=model4.predict(X_test)\n",
    "accuracy_score(y_test, y_pred_test)"
   ]
  },
  {
   "cell_type": "code",
   "execution_count": 230,
   "id": "cf4b3d57",
   "metadata": {},
   "outputs": [
    {
     "name": "stdout",
     "output_type": "stream",
     "text": [
      "cross validation accuracy score: 0.9125\n"
     ]
    }
   ],
   "source": [
    "#cross validation accuracy score\n",
    "scores = cross_val_score(model4, X_test, y_test, cv=5, scoring=\"accuracy\")\n",
    "print(\"cross validation accuracy score: {}\".format(scores.mean()))"
   ]
  },
  {
   "cell_type": "code",
   "execution_count": 232,
   "id": "887d9083",
   "metadata": {},
   "outputs": [
    {
     "name": "stdout",
     "output_type": "stream",
     "text": [
      "confusion matrix of svc_rbf: \n",
      " [[49  3]\n",
      " [ 4 24]]\n",
      "precision:  0.8888888888888888\n",
      "recall:  0.8571428571428571\n",
      "f1 score:  0.8727272727272727\n"
     ]
    }
   ],
   "source": [
    "#confusion matrix, precision, recall, f1 score\n",
    "y_pred_cross_test = cross_val_predict(model4, X_test, y_test, cv=5)\n",
    "print(\"confusion matrix of {}: \\n {}\".format(model4.steps[2][0],confusion_matrix(y_test, y_pred_cross_test)))\n",
    "print(\"precision: \", precision_score(y_test, y_pred_cross_test))\n",
    "print(\"recall: \", recall_score(y_test, y_pred_cross_test))\n",
    "print(\"f1 score: \", f1_score(y_test, y_pred_cross_test))"
   ]
  },
  {
   "cell_type": "markdown",
   "id": "a150befa",
   "metadata": {},
   "source": [
    "### fitting the chosen model on the whole dataset to create a model ready to be used for the future data predictions"
   ]
  },
  {
   "cell_type": "code",
   "execution_count": 233,
   "id": "ea3815d5",
   "metadata": {},
   "outputs": [
    {
     "data": {
      "text/plain": [
       "Pipeline(steps=[('imputer', Imputer()), ('scaler', StandardScaler()),\n",
       "                ('svc_rbf', SVC(C=1, random_state=0))])"
      ]
     },
     "execution_count": 233,
     "metadata": {},
     "output_type": "execute_result"
    }
   ],
   "source": [
    "model4.fit(X,y)"
   ]
  },
  {
   "cell_type": "code",
   "execution_count": null,
   "id": "2af38020",
   "metadata": {},
   "outputs": [],
   "source": []
  }
 ],
 "metadata": {
  "kernelspec": {
   "display_name": "Python 3",
   "language": "python",
   "name": "python3"
  },
  "language_info": {
   "codemirror_mode": {
    "name": "ipython",
    "version": 3
   },
   "file_extension": ".py",
   "mimetype": "text/x-python",
   "name": "python",
   "nbconvert_exporter": "python",
   "pygments_lexer": "ipython3",
   "version": "3.8.8"
  }
 },
 "nbformat": 4,
 "nbformat_minor": 5
}
